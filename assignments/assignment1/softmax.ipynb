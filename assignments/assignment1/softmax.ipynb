{
 "cells": [
  {
   "cell_type": "markdown",
   "metadata": {
    "tags": [
     "pdf-title"
    ]
   },
   "source": [
    "# Softmax exercise\n",
    "\n",
    "*Complete and hand in this completed worksheet (including its outputs and any supporting code outside of the worksheet) with your assignment submission. For more details see the [assignments page](http://vision.stanford.edu/teaching/cs231n/assignments.html) on the course website.*\n",
    "\n",
    "This exercise is analogous to the SVM exercise. You will:\n",
    "\n",
    "- implement a fully-vectorized **loss function** for the Softmax classifier\n",
    "- implement the fully-vectorized expression for its **analytic gradient**\n",
    "- **check your implementation** with numerical gradient\n",
    "- use a validation set to **tune the learning rate and regularization** strength\n",
    "- **optimize** the loss function with **SGD**\n",
    "- **visualize** the final learned weights\n"
   ]
  },
  {
   "cell_type": "code",
   "execution_count": 6,
   "metadata": {
    "tags": [
     "pdf-ignore"
    ]
   },
   "outputs": [
    {
     "name": "stdout",
     "output_type": "stream",
     "text": [
      "The autoreload extension is already loaded. To reload it, use:\n",
      "  %reload_ext autoreload\n"
     ]
    }
   ],
   "source": [
    "import random\n",
    "import numpy as np\n",
    "from cs231n.data_utils import load_CIFAR10\n",
    "import matplotlib.pyplot as plt\n",
    "\n",
    "%matplotlib inline\n",
    "plt.rcParams['figure.figsize'] = (10.0, 8.0) # set default size of plots\n",
    "plt.rcParams['image.interpolation'] = 'nearest'\n",
    "plt.rcParams['image.cmap'] = 'gray'\n",
    "\n",
    "# for auto-reloading extenrnal modules\n",
    "# see http://stackoverflow.com/questions/1907993/autoreload-of-modules-in-ipython\n",
    "%load_ext autoreload\n",
    "%autoreload 2"
   ]
  },
  {
   "cell_type": "code",
   "execution_count": 7,
   "metadata": {
    "tags": [
     "pdf-ignore"
    ]
   },
   "outputs": [
    {
     "name": "stdout",
     "output_type": "stream",
     "text": [
      "Train data shape:  (49000, 3073)\n",
      "Train labels shape:  (49000,)\n",
      "Validation data shape:  (1000, 3073)\n",
      "Validation labels shape:  (1000,)\n",
      "Test data shape:  (1000, 3073)\n",
      "Test labels shape:  (1000,)\n",
      "dev data shape:  (500, 3073)\n",
      "dev labels shape:  (500,)\n"
     ]
    }
   ],
   "source": [
    "def get_CIFAR10_data(num_training=49000, num_validation=1000, num_test=1000, num_dev=500):\n",
    "    \"\"\"\n",
    "    Load the CIFAR-10 dataset from disk and perform preprocessing to prepare\n",
    "    it for the linear classifier. These are the same steps as we used for the\n",
    "    SVM, but condensed to a single function.  \n",
    "    \"\"\"\n",
    "    # Load the raw CIFAR-10 data\n",
    "    cifar10_dir = 'cs231n/datasets/cifar-10-batches-py'\n",
    "    \n",
    "    # Cleaning up variables to prevent loading data multiple times (which may cause memory issue)\n",
    "    try:\n",
    "       del X_train, y_train\n",
    "       del X_test, y_test\n",
    "       print('Clear previously loaded data.')\n",
    "    except:\n",
    "       pass\n",
    "\n",
    "    X_train, y_train, X_test, y_test = load_CIFAR10(cifar10_dir)\n",
    "    \n",
    "    # subsample the data\n",
    "    mask = list(range(num_training, num_training + num_validation))\n",
    "    X_val = X_train[mask]\n",
    "    y_val = y_train[mask]\n",
    "    mask = list(range(num_training))\n",
    "    X_train = X_train[mask]\n",
    "    y_train = y_train[mask]\n",
    "    mask = list(range(num_test))\n",
    "    X_test = X_test[mask]\n",
    "    y_test = y_test[mask]\n",
    "    mask = np.random.choice(num_training, num_dev, replace=False)\n",
    "    X_dev = X_train[mask]\n",
    "    y_dev = y_train[mask]\n",
    "    \n",
    "    # Preprocessing: reshape the image data into rows\n",
    "    X_train = np.reshape(X_train, (X_train.shape[0], -1))\n",
    "    X_val = np.reshape(X_val, (X_val.shape[0], -1))\n",
    "    X_test = np.reshape(X_test, (X_test.shape[0], -1))\n",
    "    X_dev = np.reshape(X_dev, (X_dev.shape[0], -1))\n",
    "    \n",
    "    # Normalize the data: subtract the mean image\n",
    "    mean_image = np.mean(X_train, axis = 0)\n",
    "    X_train -= mean_image\n",
    "    X_val -= mean_image\n",
    "    X_test -= mean_image\n",
    "    X_dev -= mean_image\n",
    "    \n",
    "    # add bias dimension and transform into columns\n",
    "    X_train = np.hstack([X_train, np.ones((X_train.shape[0], 1))])\n",
    "    X_val = np.hstack([X_val, np.ones((X_val.shape[0], 1))])\n",
    "    X_test = np.hstack([X_test, np.ones((X_test.shape[0], 1))])\n",
    "    X_dev = np.hstack([X_dev, np.ones((X_dev.shape[0], 1))])\n",
    "    \n",
    "    return X_train, y_train, X_val, y_val, X_test, y_test, X_dev, y_dev\n",
    "\n",
    "\n",
    "# Invoke the above function to get our data.\n",
    "X_train, y_train, X_val, y_val, X_test, y_test, X_dev, y_dev = get_CIFAR10_data()\n",
    "print('Train data shape: ', X_train.shape)\n",
    "print('Train labels shape: ', y_train.shape)\n",
    "print('Validation data shape: ', X_val.shape)\n",
    "print('Validation labels shape: ', y_val.shape)\n",
    "print('Test data shape: ', X_test.shape)\n",
    "print('Test labels shape: ', y_test.shape)\n",
    "print('dev data shape: ', X_dev.shape)\n",
    "print('dev labels shape: ', y_dev.shape)"
   ]
  },
  {
   "cell_type": "markdown",
   "metadata": {},
   "source": [
    "## Test start"
   ]
  },
  {
   "cell_type": "code",
   "execution_count": 109,
   "metadata": {},
   "outputs": [
    {
     "data": {
      "text/plain": [
       "(500, 10)"
      ]
     },
     "execution_count": 109,
     "metadata": {},
     "output_type": "execute_result"
    }
   ],
   "source": [
    "scores_test = X_dev.dot(W)\n",
    "scores_test.shape"
   ]
  },
  {
   "cell_type": "code",
   "execution_count": 124,
   "metadata": {},
   "outputs": [],
   "source": [
    "probabilities = scores"
   ]
  },
  {
   "cell_type": "code",
   "execution_count": null,
   "metadata": {},
   "outputs": [],
   "source": [
    "probabilities[np.arange(num_train, y)] -= 1"
   ]
  },
  {
   "cell_type": "code",
   "execution_count": null,
   "metadata": {},
   "outputs": [],
   "source": []
  },
  {
   "cell_type": "markdown",
   "metadata": {},
   "source": [
    "## Test end"
   ]
  },
  {
   "cell_type": "markdown",
   "metadata": {},
   "source": [
    "## Softmax Classifier\n",
    "\n",
    "Your code for this section will all be written inside `cs231n/classifiers/softmax.py`.\n"
   ]
  },
  {
   "cell_type": "code",
   "execution_count": 133,
   "metadata": {},
   "outputs": [
    {
     "name": "stdout",
     "output_type": "stream",
     "text": [
      "loss: 2.372248\n",
      "sanity check: 2.302585\n"
     ]
    }
   ],
   "source": [
    "# First implement the naive softmax loss function with nested loops.\n",
    "# Open the file cs231n/classifiers/softmax.py and implement the\n",
    "# softmax_loss_naive function.\n",
    "\n",
    "from cs231n.classifiers.softmax import softmax_loss_naive\n",
    "import time\n",
    "\n",
    "# Generate a random softmax weight matrix and use it to compute the loss.\n",
    "W = np.random.randn(3073, 10) * 0.0001\n",
    "loss, grad = softmax_loss_naive(W, X_dev, y_dev, 0.0)\n",
    "\n",
    "# As a rough sanity check, our loss should be something close to -log(0.1).\n",
    "print('loss: %f' % loss)\n",
    "print('sanity check: %f' % (-np.log(0.1)))"
   ]
  },
  {
   "cell_type": "markdown",
   "metadata": {
    "tags": [
     "pdf-inline"
    ]
   },
   "source": [
    "**Inline Question 1**\n",
    "\n",
    "Why do we expect our loss to be close to -log(0.1)? Explain briefly.**\n",
    "\n",
    "$\\color{blue}{\\textit Your Answer:}$\n",
    "- As we initialise our weights close to 0, we expect each class probability to be equal, giving us approximately 0.1 (1/num_classes=10). \n",
    "- Then when we take the loss, we take the negative log, which gives us -log(0.1).\n"
   ]
  },
  {
   "cell_type": "code",
   "execution_count": 134,
   "metadata": {},
   "outputs": [
    {
     "name": "stdout",
     "output_type": "stream",
     "text": [
      "numerical: -0.086437 analytic: -0.086437, relative error: 1.697361e-07\n",
      "numerical: -0.229631 analytic: -0.229631, relative error: 9.369140e-08\n",
      "numerical: -3.244937 analytic: -3.244937, relative error: 1.172774e-08\n",
      "numerical: 0.529596 analytic: 0.529596, relative error: 4.851785e-08\n",
      "numerical: -0.649264 analytic: -0.649264, relative error: 4.172009e-08\n",
      "numerical: -0.491198 analytic: -0.491198, relative error: 2.663667e-09\n",
      "numerical: 0.972570 analytic: 0.972570, relative error: 1.277954e-08\n",
      "numerical: 1.849331 analytic: 1.849331, relative error: 9.547392e-10\n",
      "numerical: -3.494588 analytic: -3.494588, relative error: 7.385459e-09\n",
      "numerical: 2.090278 analytic: 2.090278, relative error: 1.395280e-08\n",
      "numerical: 0.367102 analytic: 0.367103, relative error: 8.930293e-08\n",
      "numerical: -0.334087 analytic: -0.334087, relative error: 1.662505e-08\n",
      "numerical: 3.673228 analytic: 3.673228, relative error: 9.148936e-09\n",
      "numerical: -7.556495 analytic: -7.556495, relative error: 1.577270e-09\n",
      "numerical: 2.266607 analytic: 2.266607, relative error: 1.102708e-08\n",
      "numerical: 4.477055 analytic: 4.477055, relative error: 6.062318e-09\n",
      "numerical: -0.123401 analytic: -0.123401, relative error: 2.224241e-07\n",
      "numerical: -0.573974 analytic: -0.573974, relative error: 3.716479e-08\n",
      "numerical: -0.368253 analytic: -0.368253, relative error: 5.234571e-08\n",
      "numerical: 0.792237 analytic: 0.792237, relative error: 3.466900e-09\n"
     ]
    }
   ],
   "source": [
    "# Complete the implementation of softmax_loss_naive and implement a (naive)\n",
    "# version of the gradient that uses nested loops.\n",
    "loss, grad = softmax_loss_naive(W, X_dev, y_dev, 0.0)\n",
    "\n",
    "# As we did for the SVM, use numeric gradient checking as a debugging tool.\n",
    "# The numeric gradient should be close to the analytic gradient.\n",
    "from cs231n.gradient_check import grad_check_sparse\n",
    "f = lambda w: softmax_loss_naive(w, X_dev, y_dev, 0.0)[0]\n",
    "grad_numerical = grad_check_sparse(f, W, grad, 10)\n",
    "\n",
    "# similar to SVM case, do another gradient check with regularization\n",
    "loss, grad = softmax_loss_naive(W, X_dev, y_dev, 5e1)\n",
    "f = lambda w: softmax_loss_naive(w, X_dev, y_dev, 5e1)[0]\n",
    "grad_numerical = grad_check_sparse(f, W, grad, 10)"
   ]
  },
  {
   "cell_type": "code",
   "execution_count": 135,
   "metadata": {},
   "outputs": [
    {
     "name": "stdout",
     "output_type": "stream",
     "text": [
      "naive loss: 2.372248e+00 computed in 0.084009s\n",
      "vectorized loss: 2.372248e+00 computed in 0.005031s\n",
      "Loss difference: 0.000000\n",
      "Gradient difference: 0.000000\n"
     ]
    }
   ],
   "source": [
    "# Now that we have a naive implementation of the softmax loss function and its gradient,\n",
    "# implement a vectorized version in softmax_loss_vectorized.\n",
    "# The two versions should compute the same results, but the vectorized version should be\n",
    "# much faster.\n",
    "tic = time.time()\n",
    "loss_naive, grad_naive = softmax_loss_naive(W, X_dev, y_dev, 0.000005)\n",
    "toc = time.time()\n",
    "print('naive loss: %e computed in %fs' % (loss_naive, toc - tic))\n",
    "\n",
    "from cs231n.classifiers.softmax import softmax_loss_vectorized\n",
    "tic = time.time()\n",
    "loss_vectorized, grad_vectorized = softmax_loss_vectorized(W, X_dev, y_dev, 0.000005)\n",
    "toc = time.time()\n",
    "print('vectorized loss: %e computed in %fs' % (loss_vectorized, toc - tic))\n",
    "\n",
    "# As we did for the SVM, we use the Frobenius norm to compare the two versions\n",
    "# of the gradient.\n",
    "grad_difference = np.linalg.norm(grad_naive - grad_vectorized, ord='fro')\n",
    "print('Loss difference: %f' % np.abs(loss_naive - loss_vectorized))\n",
    "print('Gradient difference: %f' % grad_difference)"
   ]
  },
  {
   "cell_type": "code",
   "execution_count": 142,
   "metadata": {},
   "outputs": [
    {
     "ename": "TypeError",
     "evalue": "softmax_loss_vectorized() missing 4 required positional arguments: 'W', 'X', 'y', and 'reg'",
     "output_type": "error",
     "traceback": [
      "\u001b[1;31m---------------------------------------------------------------------------\u001b[0m",
      "\u001b[1;31mTypeError\u001b[0m                                 Traceback (most recent call last)",
      "\u001b[1;32m<ipython-input-142-0a5c07ee3cb0>\u001b[0m in \u001b[0;36m<module>\u001b[1;34m\u001b[0m\n\u001b[1;32m----> 1\u001b[1;33m \u001b[0msoftmax_loss_vectorized\u001b[0m\u001b[1;33m(\u001b[0m\u001b[1;33m)\u001b[0m\u001b[1;33m\u001b[0m\u001b[0m\n\u001b[0m",
      "\u001b[1;31mTypeError\u001b[0m: softmax_loss_vectorized() missing 4 required positional arguments: 'W', 'X', 'y', and 'reg'"
     ]
    }
   ],
   "source": [
    "softmax_loss_vectorized()"
   ]
  },
  {
   "cell_type": "code",
   "execution_count": 150,
   "metadata": {
    "id": "tuning",
    "tags": [
     "code"
    ]
   },
   "outputs": [
    {
     "name": "stdout",
     "output_type": "stream",
     "text": [
      "iteration 0 / 1500: loss 187.643893\n",
      "iteration 100 / 1500: loss 35.443685\n",
      "iteration 200 / 1500: loss 8.141393\n",
      "iteration 300 / 1500: loss 3.054042\n",
      "iteration 400 / 1500: loss 2.147338\n",
      "iteration 500 / 1500: loss 2.056977\n",
      "iteration 600 / 1500: loss 1.916204\n",
      "iteration 700 / 1500: loss 1.956541\n",
      "iteration 800 / 1500: loss 1.994094\n",
      "iteration 900 / 1500: loss 2.029352\n",
      "iteration 1000 / 1500: loss 1.914098\n",
      "iteration 1100 / 1500: loss 1.999908\n",
      "iteration 1200 / 1500: loss 1.960015\n",
      "iteration 1300 / 1500: loss 2.053073\n",
      "iteration 1400 / 1500: loss 1.920726\n",
      "learning rate: 7e-07, reg: 6000.0\n",
      "train accuracy: 0.3641632653061225, validation accuracy: 0.372\n",
      "iteration 0 / 1500: loss 223.178978\n",
      "iteration 100 / 1500: loss 32.149600\n",
      "iteration 200 / 1500: loss 6.145408\n",
      "iteration 300 / 1500: loss 2.613616\n",
      "iteration 400 / 1500: loss 2.071216\n",
      "iteration 500 / 1500: loss 2.024853\n",
      "iteration 600 / 1500: loss 2.040269\n",
      "iteration 700 / 1500: loss 2.002821\n",
      "iteration 800 / 1500: loss 1.983593\n",
      "iteration 900 / 1500: loss 1.924799\n",
      "iteration 1000 / 1500: loss 1.893775\n",
      "iteration 1100 / 1500: loss 1.999073\n",
      "iteration 1200 / 1500: loss 1.998682\n",
      "iteration 1300 / 1500: loss 2.009461\n",
      "iteration 1400 / 1500: loss 1.989632\n",
      "learning rate: 7e-07, reg: 7000.0\n",
      "train accuracy: 0.35622448979591836, validation accuracy: 0.373\n",
      "iteration 0 / 1500: loss 315.709010\n",
      "iteration 100 / 1500: loss 20.304233\n",
      "iteration 200 / 1500: loss 3.073604\n",
      "iteration 300 / 1500: loss 2.118758\n",
      "iteration 400 / 1500: loss 2.041882\n",
      "iteration 500 / 1500: loss 1.969770\n",
      "iteration 600 / 1500: loss 2.022244\n",
      "iteration 700 / 1500: loss 2.056913\n",
      "iteration 800 / 1500: loss 2.047700\n",
      "iteration 900 / 1500: loss 2.057996\n",
      "iteration 1000 / 1500: loss 2.001810\n",
      "iteration 1100 / 1500: loss 2.020588\n",
      "iteration 1200 / 1500: loss 2.065681\n",
      "iteration 1300 / 1500: loss 2.001052\n",
      "iteration 1400 / 1500: loss 2.032622\n",
      "learning rate: 7e-07, reg: 10000.0\n",
      "train accuracy: 0.35612244897959183, validation accuracy: 0.368\n",
      "iteration 0 / 1500: loss 192.326255\n",
      "iteration 100 / 1500: loss 28.731266\n",
      "iteration 200 / 1500: loss 5.827284\n",
      "iteration 300 / 1500: loss 2.512015\n",
      "iteration 400 / 1500: loss 1.991023\n",
      "iteration 500 / 1500: loss 1.949020\n",
      "iteration 600 / 1500: loss 2.000227\n",
      "iteration 700 / 1500: loss 1.981965\n",
      "iteration 800 / 1500: loss 1.929768\n",
      "iteration 900 / 1500: loss 1.925365\n",
      "iteration 1000 / 1500: loss 1.942819\n",
      "iteration 1100 / 1500: loss 2.029502\n",
      "iteration 1200 / 1500: loss 1.960212\n",
      "iteration 1300 / 1500: loss 1.945559\n",
      "iteration 1400 / 1500: loss 1.957711\n",
      "learning rate: 8e-07, reg: 6000.0\n",
      "train accuracy: 0.3613877551020408, validation accuracy: 0.372\n",
      "iteration 0 / 1500: loss 221.407611\n",
      "iteration 100 / 1500: loss 24.382179\n",
      "iteration 200 / 1500: loss 4.310066\n",
      "iteration 300 / 1500: loss 2.304909\n",
      "iteration 400 / 1500: loss 2.058829\n",
      "iteration 500 / 1500: loss 1.946695\n",
      "iteration 600 / 1500: loss 1.947421\n",
      "iteration 700 / 1500: loss 2.017256\n",
      "iteration 800 / 1500: loss 1.921132\n",
      "iteration 900 / 1500: loss 1.993691\n",
      "iteration 1000 / 1500: loss 1.958182\n",
      "iteration 1100 / 1500: loss 2.045193\n",
      "iteration 1200 / 1500: loss 2.003685\n",
      "iteration 1300 / 1500: loss 2.013006\n",
      "iteration 1400 / 1500: loss 1.938557\n",
      "learning rate: 8e-07, reg: 7000.0\n",
      "train accuracy: 0.35818367346938773, validation accuracy: 0.381\n",
      "iteration 0 / 1500: loss 308.558411\n",
      "iteration 100 / 1500: loss 13.971187\n",
      "iteration 200 / 1500: loss 2.490355\n",
      "iteration 300 / 1500: loss 2.026668\n",
      "iteration 400 / 1500: loss 2.015885\n",
      "iteration 500 / 1500: loss 2.004792\n",
      "iteration 600 / 1500: loss 2.031111\n",
      "iteration 700 / 1500: loss 2.037661\n",
      "iteration 800 / 1500: loss 1.962099\n",
      "iteration 900 / 1500: loss 1.977876\n",
      "iteration 1000 / 1500: loss 2.021131\n",
      "iteration 1100 / 1500: loss 1.944362\n",
      "iteration 1200 / 1500: loss 2.012119\n",
      "iteration 1300 / 1500: loss 1.960048\n",
      "iteration 1400 / 1500: loss 2.058740\n",
      "learning rate: 8e-07, reg: 10000.0\n",
      "train accuracy: 0.3522857142857143, validation accuracy: 0.361\n",
      "iteration 0 / 1500: loss 187.360702\n",
      "iteration 100 / 1500: loss 23.429550\n",
      "iteration 200 / 1500: loss 4.536590\n",
      "iteration 300 / 1500: loss 2.190915\n",
      "iteration 400 / 1500: loss 2.080773\n",
      "iteration 500 / 1500: loss 1.918500\n",
      "iteration 600 / 1500: loss 1.944570\n",
      "iteration 700 / 1500: loss 1.968819\n",
      "iteration 800 / 1500: loss 1.974401\n",
      "iteration 900 / 1500: loss 1.933544\n",
      "iteration 1000 / 1500: loss 1.975222\n",
      "iteration 1100 / 1500: loss 1.988353\n",
      "iteration 1200 / 1500: loss 2.024998\n",
      "iteration 1300 / 1500: loss 1.920302\n",
      "iteration 1400 / 1500: loss 1.972153\n",
      "learning rate: 8.8e-07, reg: 6000.0\n",
      "train accuracy: 0.36557142857142855, validation accuracy: 0.368\n",
      "iteration 0 / 1500: loss 219.540652\n",
      "iteration 100 / 1500: loss 19.752278\n",
      "iteration 200 / 1500: loss 3.423622\n",
      "iteration 300 / 1500: loss 2.116877\n",
      "iteration 400 / 1500: loss 2.059832\n",
      "iteration 500 / 1500: loss 1.998910\n",
      "iteration 600 / 1500: loss 2.009499\n",
      "iteration 700 / 1500: loss 1.975800\n",
      "iteration 800 / 1500: loss 1.952787\n",
      "iteration 900 / 1500: loss 1.934059\n",
      "iteration 1000 / 1500: loss 2.035966\n",
      "iteration 1100 / 1500: loss 2.018128\n",
      "iteration 1200 / 1500: loss 1.967262\n",
      "iteration 1300 / 1500: loss 1.987168\n",
      "iteration 1400 / 1500: loss 1.931169\n",
      "learning rate: 8.8e-07, reg: 7000.0\n",
      "train accuracy: 0.36012244897959184, validation accuracy: 0.358\n",
      "iteration 0 / 1500: loss 307.804151\n",
      "iteration 100 / 1500: loss 10.609877\n",
      "iteration 200 / 1500: loss 2.213522\n",
      "iteration 300 / 1500: loss 2.005228\n",
      "iteration 400 / 1500: loss 2.029970\n",
      "iteration 500 / 1500: loss 1.922864\n",
      "iteration 600 / 1500: loss 2.045664\n",
      "iteration 700 / 1500: loss 1.979230\n",
      "iteration 800 / 1500: loss 2.009497\n",
      "iteration 900 / 1500: loss 1.984770\n",
      "iteration 1000 / 1500: loss 1.996065\n",
      "iteration 1100 / 1500: loss 1.974291\n",
      "iteration 1200 / 1500: loss 1.986503\n",
      "iteration 1300 / 1500: loss 2.102661\n",
      "iteration 1400 / 1500: loss 2.019720\n",
      "learning rate: 8.8e-07, reg: 10000.0\n",
      "train accuracy: 0.3513673469387755, validation accuracy: 0.367\n",
      "iteration 0 / 1500: loss 188.854733\n",
      "iteration 100 / 1500: loss 22.643842\n",
      "iteration 200 / 1500: loss 4.281661\n",
      "iteration 300 / 1500: loss 2.221057\n",
      "iteration 400 / 1500: loss 2.052769\n",
      "iteration 500 / 1500: loss 1.924601\n",
      "iteration 600 / 1500: loss 1.986830\n",
      "iteration 700 / 1500: loss 1.998135\n",
      "iteration 800 / 1500: loss 1.903420\n",
      "iteration 900 / 1500: loss 1.942828\n",
      "iteration 1000 / 1500: loss 2.011747\n",
      "iteration 1100 / 1500: loss 2.018606\n",
      "iteration 1200 / 1500: loss 1.971624\n",
      "iteration 1300 / 1500: loss 1.959653\n",
      "iteration 1400 / 1500: loss 1.935733\n",
      "learning rate: 9e-07, reg: 6000.0\n",
      "train accuracy: 0.362, validation accuracy: 0.365\n",
      "iteration 0 / 1500: loss 216.698647\n",
      "iteration 100 / 1500: loss 18.587646\n",
      "iteration 200 / 1500: loss 3.250423\n",
      "iteration 300 / 1500: loss 2.074921\n",
      "iteration 400 / 1500: loss 2.043202\n",
      "iteration 500 / 1500: loss 2.101170\n",
      "iteration 600 / 1500: loss 1.969543\n",
      "iteration 700 / 1500: loss 1.956343\n",
      "iteration 800 / 1500: loss 1.959730\n",
      "iteration 900 / 1500: loss 1.904729\n",
      "iteration 1000 / 1500: loss 1.969735\n",
      "iteration 1100 / 1500: loss 1.907556\n",
      "iteration 1200 / 1500: loss 2.056212\n",
      "iteration 1300 / 1500: loss 2.051357\n",
      "iteration 1400 / 1500: loss 2.012912\n",
      "learning rate: 9e-07, reg: 7000.0\n",
      "train accuracy: 0.35606122448979594, validation accuracy: 0.354\n",
      "iteration 0 / 1500: loss 319.446277\n",
      "iteration 100 / 1500: loss 10.107941\n",
      "iteration 200 / 1500: loss 2.233183\n",
      "iteration 300 / 1500: loss 1.957968\n",
      "iteration 400 / 1500: loss 2.048985\n",
      "iteration 500 / 1500: loss 1.971953\n",
      "iteration 600 / 1500: loss 1.920959\n",
      "iteration 700 / 1500: loss 2.016838\n",
      "iteration 800 / 1500: loss 1.973128\n",
      "iteration 900 / 1500: loss 1.970976\n",
      "iteration 1000 / 1500: loss 2.000084\n",
      "iteration 1100 / 1500: loss 1.993382\n",
      "iteration 1200 / 1500: loss 1.975646\n",
      "iteration 1300 / 1500: loss 2.005352\n",
      "iteration 1400 / 1500: loss 1.996111\n",
      "learning rate: 9e-07, reg: 10000.0\n",
      "train accuracy: 0.3418979591836735, validation accuracy: 0.355\n",
      "lr 7.000000e-07 reg 6.000000e+03 train accuracy: 0.364163 val accuracy: 0.372000\n",
      "lr 7.000000e-07 reg 7.000000e+03 train accuracy: 0.356224 val accuracy: 0.373000\n",
      "lr 7.000000e-07 reg 1.000000e+04 train accuracy: 0.356122 val accuracy: 0.368000\n",
      "lr 8.000000e-07 reg 6.000000e+03 train accuracy: 0.361388 val accuracy: 0.372000\n",
      "lr 8.000000e-07 reg 7.000000e+03 train accuracy: 0.358184 val accuracy: 0.381000\n",
      "lr 8.000000e-07 reg 1.000000e+04 train accuracy: 0.352286 val accuracy: 0.361000\n",
      "lr 8.800000e-07 reg 6.000000e+03 train accuracy: 0.365571 val accuracy: 0.368000\n",
      "lr 8.800000e-07 reg 7.000000e+03 train accuracy: 0.360122 val accuracy: 0.358000\n",
      "lr 8.800000e-07 reg 1.000000e+04 train accuracy: 0.351367 val accuracy: 0.367000\n",
      "lr 9.000000e-07 reg 6.000000e+03 train accuracy: 0.362000 val accuracy: 0.365000\n",
      "lr 9.000000e-07 reg 7.000000e+03 train accuracy: 0.356061 val accuracy: 0.354000\n",
      "lr 9.000000e-07 reg 1.000000e+04 train accuracy: 0.341898 val accuracy: 0.355000\n",
      "best validation accuracy achieved during cross-validation: 0.381000\n"
     ]
    }
   ],
   "source": [
    "# Use the validation set to tune hyperparameters (regularization strength and\n",
    "# learning rate). You should experiment with different ranges for the learning\n",
    "# rates and regularization strengths; if you are careful you should be able to\n",
    "# get a classification accuracy of over 0.35 on the validation set.\n",
    "\n",
    "from cs231n.classifiers import Softmax\n",
    "results = {}\n",
    "best_val = -1\n",
    "best_softmax = None\n",
    "\n",
    "################################################################################\n",
    "# TODO:                                                                        #\n",
    "# Use the validation set to set the learning rate and regularization strength. #\n",
    "# This should be identical to the validation that you did for the SVM; save    #\n",
    "# the best trained softmax classifer in best_softmax.                          #\n",
    "################################################################################\n",
    "\n",
    "# Provided as a reference. You may or may not want to change these hyperparameters\n",
    "# Initial exploration\n",
    "# learning_rates = [1e-8, 4e-8, 8e-8, 1e-7, 4e-7, 8e-7, 1e-6, 4e-6, 8e-6, 1e-5, 4e-5, 8e-5, 1e-4, 4e-4, 8e-4]\n",
    "# regularization_strengths = [1e4, 2e4, 3e4, 4e4, 5e4]\n",
    "\n",
    "# Second iteration: best parameters were [8e-7, 1e4]\n",
    "# learning_rates = [7e-7, 7.2e-7, 7.4e-7, 7.6e-7, 7.8e-7, 7.9e-7, 8e-7, 8.2e-7, 8.4e-7, 8.6e-7, 8.8e-7, 8.9e-7, 9e-7]\n",
    "# regularization_strengths = [0.5e4, 0.6e4, 0.7e4, 0.8e4, 0.9e4, 1e4, 1.1e4, 1.2e4, 1.3e4, 1.4e4, 1.5e4]\n",
    "\n",
    "# Best\n",
    "learning_rates = [7e-7, 8e-7, 8.8e-7, 9e-7]\n",
    "regularization_strengths = [0.6e4, 0.7e4, 1e4]\n",
    "\n",
    "# *****START OF YOUR CODE (DO NOT DELETE/MODIFY THIS LINE)*****\n",
    "\n",
    "num_iters = [1000, 1500]\n",
    "\n",
    "for lr_i in learning_rates:\n",
    "    for reg_i in regularization_strengths:\n",
    "        model_val = Softmax()\n",
    "        loss_hist = model_val.train(X_train, y_train, learning_rate=lr_i, reg=reg_i,\n",
    "                          num_iters=num_iters[1], verbose=True)\n",
    "        \n",
    "        y_train_pred = model_val.predict(X_train)\n",
    "        y_val_pred = model_val.predict(X_val)\n",
    "        \n",
    "        curr_accuracy_train = np.mean(y_train == y_train_pred)\n",
    "        curr_accuracy_val = np.mean(y_val == y_val_pred)\n",
    "        print(f'learning rate: {lr_i}, reg: {reg_i}')\n",
    "        print(f'train accuracy: {curr_accuracy_train}, validation accuracy: {curr_accuracy_val}')\n",
    "        \n",
    "        results[lr_i, reg_i] = [curr_accuracy_train, curr_accuracy_val]\n",
    "        \n",
    "        if curr_accuracy_val > best_acc_val:\n",
    "            best_acc_val = curr_accuracy_val\n",
    "            best_softmax = model_val\n",
    "\n",
    "# *****END OF YOUR CODE (DO NOT DELETE/MODIFY THIS LINE)*****\n",
    "    \n",
    "# Print out results.\n",
    "for lr, reg in sorted(results):\n",
    "    train_accuracy, val_accuracy = results[(lr, reg)]\n",
    "    print('lr %e reg %e train accuracy: %f val accuracy: %f' % (\n",
    "                lr, reg, train_accuracy, val_accuracy))\n",
    "    \n",
    "print('best validation accuracy achieved during cross-validation: %f' % best_acc_val)"
   ]
  },
  {
   "cell_type": "code",
   "execution_count": 151,
   "metadata": {
    "id": "test"
   },
   "outputs": [
    {
     "name": "stdout",
     "output_type": "stream",
     "text": [
      "softmax on raw pixels final test set accuracy: 0.361000\n"
     ]
    }
   ],
   "source": [
    "# evaluate on test set\n",
    "# Evaluate the best softmax on test set\n",
    "y_test_pred = best_softmax.predict(X_test)\n",
    "test_accuracy = np.mean(y_test == y_test_pred)\n",
    "print('softmax on raw pixels final test set accuracy: %f' % (test_accuracy, ))"
   ]
  },
  {
   "cell_type": "markdown",
   "metadata": {
    "tags": [
     "pdf-inline"
    ]
   },
   "source": [
    "**Inline Question 2** - *True or False*\n",
    "\n",
    "Suppose the overall training loss is defined as the sum of the per-datapoint loss over all training examples. It is possible to add a new datapoint to a training set that would leave the SVM loss unchanged, but this is not the case with the Softmax classifier loss.\n",
    "\n",
    "$\\color{blue}{\\textit Your Answer:}$ True\n",
    "\n",
    "\n",
    "$\\color{blue}{\\textit Your Explanation:}$\n",
    "- The reason for this is because for SVM, if you add a datapoint to the training set and its highest class score is for the correct class and greater than the safety margin, then the datapoint loss will be zero and it will not change the overall training loss (since we've not normalised it by the number of training samples).\n",
    "- This is not the case for Softmax, since each image will add a non-zero amount of training loss (given that the non-correct class scores are non-zero)."
   ]
  },
  {
   "cell_type": "code",
   "execution_count": 152,
   "metadata": {},
   "outputs": [
    {
     "data": {
      "image/png": "[encoded data removed]",
      "text/plain": [
       "<Figure size 720x576 with 10 Axes>"
      ]
     },
     "metadata": {
      "needs_background": "light"
     },
     "output_type": "display_data"
    }
   ],
   "source": [
    "# Visualize the learned weights for each class\n",
    "w = best_softmax.W[:-1,:] # strip out the bias\n",
    "w = w.reshape(32, 32, 3, 10)\n",
    "\n",
    "w_min, w_max = np.min(w), np.max(w)\n",
    "\n",
    "classes = ['plane', 'car', 'bird', 'cat', 'deer', 'dog', 'frog', 'horse', 'ship', 'truck']\n",
    "for i in range(10):\n",
    "    plt.subplot(2, 5, i + 1)\n",
    "    \n",
    "    # Rescale the weights to be between 0 and 255\n",
    "    wimg = 255.0 * (w[:, :, :, i].squeeze() - w_min) / (w_max - w_min)\n",
    "    plt.imshow(wimg.astype('uint8'))\n",
    "    plt.axis('off')\n",
    "    plt.title(classes[i])"
   ]
  },
  {
   "cell_type": "code",
   "execution_count": null,
   "metadata": {},
   "outputs": [],
   "source": []
  }
 ],
 "metadata": {
  "kernelspec": {
   "display_name": "Python 3",
   "language": "python",
   "name": "python3"
  },
  "language_info": {
   "codemirror_mode": {
    "name": "ipython",
    "version": 3
   },
   "file_extension": ".py",
   "mimetype": "text/x-python",
   "name": "python",
   "nbconvert_exporter": "python",
   "pygments_lexer": "ipython3",
   "version": "3.7.0"
  }
 },
 "nbformat": 4,
 "nbformat_minor": 1
}
